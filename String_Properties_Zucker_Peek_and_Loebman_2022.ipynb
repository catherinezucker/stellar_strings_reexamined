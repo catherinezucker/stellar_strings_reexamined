{
 "cells": [
  {
   "cell_type": "markdown",
   "id": "572fd3c0",
   "metadata": {},
   "source": [
    "## This notebook produces the data behind the figures in Zucker, Peek, & Loebman 2022.\n",
    "\n",
    "We start by fetching the catalog of stellar data used in the construction of the strings from Kounkel & Covey 2019 (their Table 1). We then cross-match the Gaia DR2 data on the stellar members with updated Gaia EDR3 data. To produce this crossmatched table, we run the ADQL command given in \"Kounkel_GaiaDR2_EDR3_ADQL_Query.txt\". We also read in the properties of the strings (Table 2 in Kounkel & Covey 2019) and the coordinates of the stellar string spines (Table 3 in Kounkel & Covey 2019). "
   ]
  },
  {
   "cell_type": "code",
   "execution_count": 1,
   "id": "507d153b",
   "metadata": {},
   "outputs": [
    {
     "name": "stdout",
     "output_type": "stream",
     "text": [
      "SELECT kounkeldr2.gaia, kounkeldr2.raj2000 as dr2_ra,kounkeldr2.dej2000 as dr2_dec, kounkeldr2.theia, dr2_neighborhood.*, dr2.parallax as dr2_parallax, dr2.parallax_error as dr2_parallax_error, dr2.pmra as dr2_pmra, dr2.pmra_error as dr2_pmra_error, dr2.pmdec as dr2_pmdec, dr2.pmdec_error as dr2_pmdec_error, edr3.ra as edr3_ra, edr3.dec as edr3_dec,edr3.parallax as edr3_parallax, edr3.parallax_error as edr3_parallax_error, edr3.pmra as edr3_pmra, edr3.pmra_error as edr3_pmra_error, edr3.pmdec as edr3_pmdec, edr3.pmdec_error as edr3_pmdec_error, dr2.radial_velocity, dr2.radial_velocity_error\n",
      "FROM tap_upload.kounkel2019 AS kounkeldr2\n",
      "JOIN gaiaedr3.dr2_neighbourhood AS dr2_neighborhood ON\n",
      "   kounkeldr2.gaia = dr2_neighborhood.dr2_source_id\n",
      "JOIN gaiadr2.gaia_source AS dr2 ON\n",
      "   dr2_neighborhood.dr2_source_id = dr2.source_id\n",
      "JOIN gaiaedr3.gaia_source AS edr3 ON\n",
      "   dr2_neighborhood.dr3_source_id = edr3.source_id\n",
      "WHERE dr2_neighborhood.angular_distance < 30\n",
      "ORDER BY kounkeldr2.gaia ASC\n",
      "Launched query: 'SELECT kounkeldr2.gaia, kounkeldr2.raj2000 as dr2_ra,kounkeldr2.dej2000 as dr2_dec, kounkeldr2.theia, dr2_neighborhood.*, dr2.parallax as dr2_parallax, dr2.parallax_error as dr2_parallax_error, dr2.pmra as dr2_pmra, dr2.pmra_error as dr2_pmra_error, dr2.pmdec as dr2_pmdec, dr2.pmdec_error as dr2_pmdec_error, edr3.ra as edr3_ra, edr3.dec as edr3_dec,edr3.parallax as edr3_parallax, edr3.parallax_error as edr3_parallax_error, edr3.pmra as edr3_pmra, edr3.pmra_error as edr3_pmra_error, edr3.pmdec as edr3_pmdec, edr3.pmdec_error as edr3_pmdec_error, dr2.radial_velocity, dr2.radial_velocity_error\n",
      "FROM tap_upload.kounkel2019 AS kounkeldr2\n",
      "JOIN gaiaedr3.dr2_neighbourhood AS dr2_neighborhood ON\n",
      "   kounkeldr2.gaia = dr2_neighborhood.dr2_source_id\n",
      "JOIN gaiadr2.gaia_source AS dr2 ON\n",
      "   dr2_neighborhood.dr2_source_id = dr2.source_id\n",
      "JOIN gaiaedr3.gaia_source AS edr3 ON\n",
      "   dr2_neighborhood.dr3_source_id = edr3.source_id\n",
      "WHERE dr2_neighborhood.angular_distance < 30\n",
      "ORDER BY kounkeldr2.gaia ASC'\n",
      "------>https\n",
      "host = gea.esac.esa.int:443\n",
      "context = /tap-server/tap/async\n",
      "Content-type = multipart/form-data; boundary====1652998463734===\n",
      "303 303\n",
      "[('Date', 'Thu, 19 May 2022 22:14:24 GMT'), ('Server', 'Apache/2.4.6 (CentOS) OpenSSL/1.0.2k-fips PHP/5.4.16 mod_jk/1.2.43'), ('Cache-Control', 'no-cache, no-store, max-age=0, must-revalidate'), ('Pragma', 'no-cache'), ('Expires', '0'), ('X-XSS-Protection', '1; mode=block'), ('X-Frame-Options', 'SAMEORIGIN'), ('X-Content-Type-Options', 'nosniff'), ('Set-Cookie', 'JSESSIONID=4F7C543CB4E46569FB471CBB61FE12C6; Path=/tap-server; Secure; HttpOnly'), ('Location', 'https://gea.esac.esa.int/tap-server/tap/async/1652998464450O'), ('Transfer-Encoding', 'chunked'), ('Content-Type', 'text/plain;charset=ISO-8859-1')]\n",
      "job 1652998464450O, at: https://gea.esac.esa.int/tap-server/tap/async/1652998464450O\n",
      "Retrieving async. results...\n",
      "INFO: Query finished. [astroquery.utils.tap.core]\n"
     ]
    }
   ],
   "source": [
    "from astroquery.gaia import Gaia\n",
    "from astroquery.vizier import Vizier\n",
    "import codecs\n",
    "from astropy.table import Table\n",
    "\n",
    "#fetch Table 1 from Kounkel & Covey 2019\n",
    "viz = Vizier(columns=['**'],timeout=600)\n",
    "viz.ROW_LIMIT = -1\n",
    "table1 = viz.get_catalogs(\"J/AJ/158/122/table1\")[0]\n",
    "table1.write(\"Kounkel_Covey_2019_Table1.vot\",overwrite=True,format='votable')\n",
    "\n",
    "#if you want to fetch the cross-matched table from scratch, set this to true (takes a while)\n",
    "#otherwise, if you've already run this cell, you can set to False and read in the existing file\n",
    "download_crossmatch_table = True\n",
    "\n",
    "if download_crossmatch_table == True:\n",
    "    \n",
    "    #crossmatch Gaia DR2 stellar member data with Gaia EDR3 stellar member data\n",
    "    with codecs.open('Kounkel_GaiaDR2_EDR3_ADQL_Query.txt', 'r', encoding='utf-8',\n",
    "                     errors='ignore') as file:\n",
    "        query = file.read()\n",
    "\n",
    "    upload_resource = \"Kounkel_Covey_2019_Table1.vot\"\n",
    "    Gaia.ROW_LIMIT = -1 #return all rows\n",
    "    print(query)\n",
    "    j = Gaia.launch_job_async(query=query,upload_resource=upload_resource, upload_table_name=\"kounkel2019\", verbose=True)\n",
    "\n",
    "    #cross-matched Table 1, now including both DR2 and EDR3 data\n",
    "    tstars = j.get_results()\n",
    "    \n",
    "else:\n",
    "    tstars = Table.read(\"Kounkel2019_GaiaDR2_to_EDR3.vot\")\n",
    "\n",
    "#fetch Table 2 from Kounkel & Covey 2019, containing group and string level properties\n",
    "tgroups = viz.get_catalogs(\"J/AJ/158/122/table2\")[0]\n",
    "#restrict to only groups that are classified as strings\n",
    "tstrings = tgroups[tgroups['String'] == 'y']\n",
    "\n",
    "#fetch Table 3 from Kounkel & Covey 2019, containing coordinates of string spines\n",
    "tspines = viz.get_catalogs(\"J/AJ/158/122/table3\")[0]"
   ]
  },
  {
   "cell_type": "markdown",
   "id": "d504d409",
   "metadata": {},
   "source": [
    "We start by calculating the XYZ positions of string members in both DR2 and EDR3"
   ]
  },
  {
   "cell_type": "code",
   "execution_count": 2,
   "id": "bdab9b31",
   "metadata": {},
   "outputs": [],
   "source": [
    "from astropy.coordinates import SkyCoord\n",
    "from astropy import units as u\n",
    "import numpy as np\n",
    "\n",
    "#add distance info to stellar catalogs\n",
    "tstars['dr2_dist'] = 1000./tstars['dr2_parallax']\n",
    "tstars['edr3_dist'] = 1000./tstars['edr3_parallax'].clip(1e-12)\n",
    "\n",
    "#compute XYZ coordinates for both DR2 and EDR3\n",
    "cstar_dr2 = SkyCoord(ra = tstars['dr2_ra'].value*u.deg, dec = tstars['dr2_dec'].value*u.deg,distance=tstars['dr2_dist'].value*u.pc, frame='icrs')\n",
    "cstar_edr3 = SkyCoord(ra = tstars['edr3_ra'].value*u.deg, dec = tstars['edr3_dec'].value*u.deg,distance=tstars['edr3_dist'].value*u.pc, frame='icrs')\n",
    "\n",
    "#add DR2 XYZ positions to the table\n",
    "tstars['dr2_x'] = cstar_dr2.galactic.cartesian.x\n",
    "tstars['dr2_y'] = cstar_dr2.galactic.cartesian.y\n",
    "tstars['dr2_z'] = cstar_dr2.galactic.cartesian.z\n",
    "\n",
    "#add EDR3 XYZ position to the table\n",
    "tstars['edr3_x'] = cstar_edr3.galactic.cartesian.x\n",
    "tstars['edr3_y'] = cstar_edr3.galactic.cartesian.y\n",
    "tstars['edr3_z'] = cstar_edr3.galactic.cartesian.z"
   ]
  },
  {
   "cell_type": "markdown",
   "id": "8c5933b8",
   "metadata": {},
   "source": [
    "Next, we write a function that calculates the minimum distance between a star and its corresponding string spine. "
   ]
  },
  {
   "cell_type": "code",
   "execution_count": 3,
   "id": "131d5aed",
   "metadata": {},
   "outputs": [],
   "source": [
    "def calculate_spatial_offset(stellar_index, tstar, tspine, release):\n",
    "    \n",
    "    \"\"\"\n",
    "    Computes the minimum offset between a single star's XYZ position \n",
    "    and the stellar string spine to which it belongs\n",
    "\n",
    "    Parameters\n",
    "    ----------\n",
    "    stellar index: int\n",
    "        Index of star in the Table tstar_theia\n",
    "        \n",
    "    tstar_theia: astropy table\n",
    "        Table of all stars in a given string\n",
    "    \n",
    "    tspine_theia: astropy table\n",
    "        Table of spine positions for a given string\n",
    "    \n",
    "    release: string\n",
    "        Gaia release to calculate the offset for ('dr2' or 'edr3')\n",
    "    \"\"\"\n",
    "\n",
    "    #calculate distance between star and every point in the spine\n",
    "    xyz_offsets = np.sqrt((tstar_theia[release+'_x'][stellar_index] - tspine_theia['X'])**2 + (tstar_theia[release+'_y'][stellar_index] - tspine_theia['Y'])**2 + (tstar_theia[release+'_z'][stellar_index] - tspine_theia['Z'])**2)\n",
    "    \n",
    "    #find the index corresponding to the minimum distance\n",
    "    argmin = np.argmin(xyz_offsets)\n",
    "               \n",
    "    #grab the minimum 3D spatial offset in pc between star and closest point on the spine\n",
    "    min_xyz_offset =  xyz_offsets[argmin]\n",
    "                          \n",
    "    return min_xyz_offset\n",
    "\n",
    "#vectorizing this function so we can compute offsets for all stars in string with one function call\n",
    "v_calculate_spatial_offset = np.vectorize(calculate_spatial_offset,excluded = [1,2,3])"
   ]
  },
  {
   "cell_type": "markdown",
   "id": "344a663e",
   "metadata": {},
   "source": [
    "Leveraging this function, we will loop through the strings and calculate the median offset between the string members and the spine using both DR2 and EDR3 data on the star positions. As we do so, we will also compute the median S/N of the parallax measurements in DR2 and EDR3, and the radial velocity dispersion for the subset of stars in the string with a Gaia DR2 radial velocity detection"
   ]
  },
  {
   "cell_type": "code",
   "execution_count": 4,
   "id": "4150de3e",
   "metadata": {},
   "outputs": [],
   "source": [
    "#this table will hold the \"master\" properties on the strings\n",
    "tsummary = Table(names=('Theia', 'dr2_offset_xyz', 'dr2_parallax_SN','edr3_offset_xyz','edr3_parallax_SN','sigmaVR','N_VR'), dtype=('i4', 'f2', 'f2','f2','f2','f4','i4'), units = {'dr2_offset_xyz':u.pc, 'edr3_offset_xyz':u.pc, 'sigmaVR':u.km/u.s})\n",
    "\n",
    "#loop through string sample and calculate new properties for each string\n",
    "for string in np.unique(tspines['Theia']):\n",
    "    \n",
    "    #grab stars in the string\n",
    "    star_mask = np.where(tstars['theia'] == string)[0]\n",
    "    tstar_theia = tstars[star_mask]\n",
    "\n",
    "    #grab spine of the string\n",
    "    spine_mask = np.where(tspines['Theia'] == string)[0]\n",
    "    tspine_theia = tspines[spine_mask]\n",
    "    \n",
    "    #compute array of 3D spatial offsets between string spine and string members\n",
    "    xyz_offset_dr2 = v_calculate_spatial_offset(np.arange(0,len(star_mask)), tstar_theia, tspine_theia,'dr2')\n",
    "    xyz_offset_edr3 = v_calculate_spatial_offset(np.arange(0,len(star_mask)), tstar_theia, tspine_theia,'edr3')\n",
    "            \n",
    "    #calculate median 3D spatial offset between string spine and string members for a given string\n",
    "    avg_dr2_offset = np.ma.median(xyz_offset_dr2)\n",
    "    avg_edr3_offset = np.ma.median(xyz_offset_edr3)\n",
    "            \n",
    "    #calculate average signal to noise of parallaxes in string\n",
    "    avg_sn_dr2 = np.ma.median(tstar_theia['dr2_parallax']/tstar_theia['dr2_parallax_error'])\n",
    "    avg_sn_edr3 = np.ma.median(tstar_theia['edr3_parallax']/tstar_theia['edr3_parallax_error'])  \n",
    "        \n",
    "    #calculate radial velocity dispersion\n",
    "    sigmaVR = np.ma.std(tstar_theia['radial_velocity'])\n",
    "    \n",
    "    #count number of stars with radial velocity detections\n",
    "    N_VR = np.sum(~tstar_theia['radial_velocity'].mask)\n",
    "    \n",
    "    tsummary.add_row([string,avg_dr2_offset,avg_sn_dr2,avg_edr3_offset,avg_sn_edr3,sigmaVR,N_VR])\n"
   ]
  },
  {
   "cell_type": "markdown",
   "id": "91984c4f",
   "metadata": {},
   "source": [
    "Next we will join our derived table of properties computed above with existing properties for the strings from Kounkel & Covey 2019, including the number of stellar members (\"N_\") and their reported ages (\"logAge\")"
   ]
  },
  {
   "cell_type": "code",
   "execution_count": 5,
   "id": "77097e5f",
   "metadata": {},
   "outputs": [],
   "source": [
    "tsummary['Nstars'] = tstrings['N_']\n",
    "\n",
    "#convert logAge from Kounkel & Covey 2019 Table 2 to age in Myr\n",
    "tsummary['Age'] = (10**tstrings['logAge'].value) / 10**6 \n",
    "tsummary['Age'] = tsummary['Age'] * u.Myr"
   ]
  },
  {
   "cell_type": "markdown",
   "id": "19250185",
   "metadata": {},
   "source": [
    "### Reproducing Figure 2\n",
    "\n",
    "We reproduce Figure 2 in Zucker, Peek, & Loebman 2022, showing the average increase in the signal to noise of the parallax measurements per string (going from Gaia DR2 to Gaia EDR3) versus the average percentage the stars get closer to their respective string spines"
   ]
  },
  {
   "cell_type": "code",
   "execution_count": 6,
   "id": "a42d5865",
   "metadata": {},
   "outputs": [
    {
     "data": {
      "image/png": "[encoded data removed]",
      "text/plain": [
       "<Figure size 1440x720 with 1 Axes>"
      ]
     },
     "metadata": {
      "needs_background": "light"
     },
     "output_type": "display_data"
    }
   ],
   "source": [
    "import matplotlib.pyplot as plt\n",
    "import pandas as pd\n",
    "\n",
    "plt.rcParams[\"font.family\"] = \"monospace\"\n",
    "\n",
    "fig, ax = plt.subplots(1, figsize = (20,10))\n",
    "\n",
    "#calculate the average increase in the S/N of the parallax measurements per string\n",
    "SN_increase = 100 * ((tsummary['edr3_parallax_SN'].data - tsummary['dr2_parallax_SN'].data)/tsummary['dr2_parallax_SN'].data)\n",
    "\n",
    "#calculate how much closer the stars get to the spine in Gaia EDR3\n",
    "percent_closer = -100 * ((tsummary['edr3_offset_xyz'].data - tsummary['dr2_offset_xyz'].data)/ tsummary['dr2_offset_xyz'].data)\n",
    "                  \n",
    "#sort increase in S/N for purposes of computing rolling median\n",
    "reorder = np.argsort(SN_increase)\n",
    "SN_increase = SN_increase[reorder]\n",
    "percent_closer = percent_closer[reorder]\n",
    "\n",
    "ax.scatter(SN_increase,percent_closer,c='gray',s=40)\n",
    "\n",
    "#compute rolling median averaging over every 25 datapoints\n",
    "s = pd.Series(percent_closer)\n",
    "roll_median = s.rolling(25).median()\n",
    "\n",
    "#plot the rolling median results\n",
    "plt.plot(SN_increase,roll_median,c='k',lw=3)\n",
    "\n",
    "ax.set_xlabel(\"Percentage Increase in Parallax S/N\",fontsize=25)\n",
    "ax.set_ylabel(\"Percentage Closer to String Spine\",fontsize=25)\n",
    "\n",
    "ax.set_xlim(0,140)\n",
    "ax.set_ylim(-40,40)\n",
    "\n",
    "plt.xticks(fontsize=18)\n",
    "plt.yticks(fontsize=18)\n",
    "\n",
    "plt.plot(np.arange(0,45),np.arange(0,45),c='k',lw=3)\n",
    "\n",
    "plt.savefig('Figure2.png',bbox_inches='tight',dpi=300)"
   ]
  },
  {
   "cell_type": "markdown",
   "id": "59410f19",
   "metadata": {},
   "source": [
    "Next, we will compute the predicted virial mass of the stars given their observed radial velocity dispersions:\n",
    "\n",
    "\\begin{equation}\n",
    "M_{vir} = \\frac{\\sigma_{V_r}^{2} \\times \\eta \\times r_{hm}}{G}\n",
    "\\end{equation}\n",
    "\n",
    "where $\\sigma_{V_r}$ is the observed radial velocity dispersion, $r_{hm}$ is the half-mass radius (taken to be the median distance offset between the string's 3D spine and the 3D position of its stars using Gaia EDR3 data). The parameter $\\eta$ is a dimensionless constant that depends on the shape of the density profile, typically assumed to be $\\eta \\approx 10$ for a Plummer model characterized by steep density profiles. We very generously adopt $\\eta=1$, as larger values of $\\eta$ will only increase the mass required for strings to be in virial equilibrium."
   ]
  },
  {
   "cell_type": "code",
   "execution_count": 7,
   "id": "d1390706",
   "metadata": {},
   "outputs": [
    {
     "name": "stdout",
     "output_type": "stream",
     "text": [
      "Average Virial Mass: 1.8e+06 solar masses\n"
     ]
    }
   ],
   "source": [
    "from astropy import constants\n",
    "\n",
    "eta = 1\n",
    "\n",
    "#convert the Gravitational constant to same units as sigma_VR and r_hm. \n",
    "G = constants.G.to('km**2 * pc / M_sun*s**2')\n",
    "tsummary['M_virial'] = (tsummary['sigmaVR'].quantity**2 * eta * tsummary['edr3_offset_xyz'].quantity) / G\n",
    "\n",
    "print(\"Average Virial Mass: {:.1e} solar masses\".format(np.ma.median(tsummary['M_virial'])))"
   ]
  },
  {
   "cell_type": "markdown",
   "id": "6e3b04a2",
   "metadata": {},
   "source": [
    "We obtain an average predicted virial mass of around 2 million solar masses. Next, we compute the observed mass of the strings, using the number of stars per string and assigning an average mass per star of 0.61 solar masses (given the Maschberger+2013 IMF)"
   ]
  },
  {
   "cell_type": "code",
   "execution_count": 8,
   "id": "369acfca",
   "metadata": {},
   "outputs": [
    {
     "name": "stdout",
     "output_type": "stream",
     "text": [
      "Average Observed Mass of Strings: 134\n",
      "Average Ratio of Virial to Observed Mass: 12688\n"
     ]
    }
   ],
   "source": [
    "M_observed = tsummary['Nstars'] * 0.61 \n",
    "tsummary['M_observed'] = M_observed*u.M_sun\n",
    "\n",
    "tsummary['M_virial_over_observed'] = tsummary['M_virial'] / tsummary['M_observed']\n",
    "\n",
    "print(\"Average Observed Mass of Strings: {:.0f}\".format(np.ma.median(tsummary['M_observed'])))\n",
    "print(\"Average Ratio of Virial to Observed Mass: {:.0f}\".format(np.ma.median(tsummary['M_virial_over_observed'])))"
   ]
  },
  {
   "cell_type": "markdown",
   "id": "e46040e6",
   "metadata": {},
   "source": [
    "We obtain an average observed mass of the strings of 134 solar masses."
   ]
  },
  {
   "cell_type": "markdown",
   "id": "0aeba67e",
   "metadata": {},
   "source": [
    "Given that the predicted virial masses are orders of magnitude larger than the observed masses, all strings are gravitationally unbound. As such, we expect the string to disperse on roughly a crossing time, $\\rm t_{cross}$, such that its predicted lifetime is given as:\n",
    "\n",
    "\\begin{equation}\n",
    "t_{dispersal} \\approx t_{cross} \\approx \\frac{r_{hm}}{\\sigma_{V_r}}    \n",
    "\\end{equation}\n",
    "\n",
    "We then take the ratio of the reported age of the string (from Kounkel & Covey 2019) to its predicted dispersal time."
   ]
  },
  {
   "cell_type": "code",
   "execution_count": 9,
   "id": "8c898115",
   "metadata": {},
   "outputs": [
    {
     "name": "stderr",
     "output_type": "stream",
     "text": [
      "/Users/catherinezucker/miniconda3/envs/glue/lib/python3.9/site-packages/astropy/units/quantity.py:613: RuntimeWarning: divide by zero encountered in true_divide\n",
      "  result = super().__array_ufunc__(function, method, *arrays, **kwargs)\n"
     ]
    }
   ],
   "source": [
    "#compute the dispersal time of the string in Myr using its estimated crossing time\n",
    "t_dispersal = tsummary['edr3_offset_xyz'].quantity.to(u.km) / tsummary['sigmaVR'].quantity\n",
    "tsummary['t_dispersal'] = t_dispersal.to(u.Myr)\n",
    "\n",
    "#calculate the ratio of the strings reported age over its predicted dynamical lifetime\n",
    "tsummary['age_over_dispersal'] =  tsummary['Age'] / tsummary['t_dispersal']"
   ]
  },
  {
   "cell_type": "markdown",
   "id": "b0d005ed",
   "metadata": {},
   "source": [
    "### Reproducing Figure 3\n",
    "\n",
    "Next, we reproduce Figure 3 in the paper, showing the ratio of the virial to observed mass (on the y-axis) versus the ratio of the reported age to the predicted age (on the x-axis)."
   ]
  },
  {
   "cell_type": "code",
   "execution_count": 10,
   "id": "8154946f",
   "metadata": {},
   "outputs": [
    {
     "data": {
      "image/png": "[encoded data removed]",
      "text/plain": [
       "<Figure size 1296x864 with 1 Axes>"
      ]
     },
     "metadata": {
      "needs_background": "light"
     },
     "output_type": "display_data"
    }
   ],
   "source": [
    "fig,ax = plt.subplots(1,figsize = (18,12))\n",
    "\n",
    "ax.scatter(tsummary['age_over_dispersal'],tsummary['M_virial']/tsummary['M_observed'],s=60,c='k')\n",
    "\n",
    "ax.set_xscale('log')\n",
    "ax.set_yscale('log')\n",
    "\n",
    "ax.set_xlim(10**-0.4,10**4)\n",
    "ax.set_ylim(10**2,10**6.3)\n",
    "\n",
    "ax.set_xlabel(\"Reported Age/Dispersal Time\",fontsize=30)\n",
    "ax.set_ylabel('Virial Mass/Observed Mass',fontsize=30)\n",
    "\n",
    "plt.xticks(fontsize=18)\n",
    "plt.yticks(fontsize=18)\n",
    "\n",
    "plt.savefig(\"Figure3.png\",bbox_inches='tight',dpi=300)"
   ]
  },
  {
   "cell_type": "markdown",
   "id": "5ec199b1",
   "metadata": {},
   "source": [
    "### Reproducing Table 1\n",
    "\n",
    "Using the summary of string properties computed in this notebook, we write out Table 1 in the paper. "
   ]
  },
  {
   "cell_type": "code",
   "execution_count": 11,
   "id": "7c8ac429",
   "metadata": {},
   "outputs": [],
   "source": [
    "#new compiled table for exporting to latex. \n",
    "tlatex = Table(masked=True)\n",
    "\n",
    "tlatex['Theia'] = tsummary['Theia']\n",
    "tlatex['DR2_offset_pc'] = tsummary['dr2_offset_xyz']\n",
    "tlatex['DR2_SN'] = tsummary['dr2_parallax_SN']\n",
    "tlatex['EDR3_offset_pc'] = tsummary['edr3_offset_xyz']\n",
    "tlatex['EDR3_SN'] = tsummary['edr3_parallax_SN']\n",
    "tlatex['sigmaVR'] = tsummary['sigmaVR']\n",
    "tlatex['virialMass'] =  tsummary['M_virial']\n",
    "tlatex['observedMass'] = tsummary['M_observed']\n",
    "tlatex['Mvirial_over_observed'] = tsummary['M_virial_over_observed']\n",
    "tlatex['tdispersal'] =tsummary['t_dispersal']\n",
    "tlatex['Age'] = tsummary['Age']\n",
    "tlatex['age_over_dispersal'] = tsummary['age_over_dispersal']\n",
    "\n",
    "#mask strings for which sigmaVR and dependent columns could not be computed due to lack of RV measurements\n",
    "tlatex['sigmaVR'].mask = tsummary['N_VR'] <= 1 \n",
    "tlatex['virialMass'].mask = tsummary['N_VR'] <= 1 \n",
    "tlatex['Mvirial_over_observed'].mask = tsummary['N_VR'] <= 1 \n",
    "tlatex['tdispersal'].mask = tsummary['N_VR'] <= 1 \n",
    "tlatex['age_over_dispersal'].mask = tsummary['N_VR'] <= 1 \n",
    "\n",
    "tlatex.write(\"Table1.tex\",format='latex',overwrite=True, formats={'Theia':'%s', 'DR2_offset_pc':'%d','DR2_SN':'%d','EDR3_offset_pc':'%d','EDR3_SN':'%d','sigmaVR':'%.1f','virialMass':'%.1e','observedMass':'%d','Mvirial_over_observed':'%.1e','tdispersal':'%.1f','Age':'%d','age_over_dispersal':'%d'})\n",
    "\n",
    "\n"
   ]
  },
  {
   "cell_type": "markdown",
   "id": "783f21cd",
   "metadata": {},
   "source": [
    "Finally, we will move on to analyzing the abundance variations within the strings with respect to a random sample of stars pulled from unrelated open clusters in the Milky Way. For this purpose, we adopt the open cluster catalog of Spina+2021. "
   ]
  },
  {
   "cell_type": "code",
   "execution_count": 12,
   "id": "79a55176",
   "metadata": {},
   "outputs": [
    {
     "name": "stderr",
     "output_type": "stream",
     "text": [
      "WARNING: MergeConflictWarning: Cannot merge meta key 'ID' types <class 'str'> and <class 'str'>, choosing ID='J_MNRAS_503_3279_table2' [astropy.utils.metadata]\n",
      "WARNING: MergeConflictWarning: Cannot merge meta key 'name' types <class 'str'> and <class 'str'>, choosing name='J/MNRAS/503/3279/table2' [astropy.utils.metadata]\n",
      "WARNING: MergeConflictWarning: Cannot merge meta key 'description' types <class 'str'> and <class 'str'>, choosing description='Physical and kinematic properties of open clusters' [astropy.utils.metadata]\n"
     ]
    }
   ],
   "source": [
    "from astropy.table import join\n",
    "\n",
    "#fetch catalog of metallicity info for open cluster members from Spina+2021 (Table 1)\n",
    "viz = Vizier(columns=['**'])\n",
    "viz.ROW_LIMIT = -1\n",
    "tspina_stars = viz.get_catalogs(\"J/MNRAS/503/3279/table1\")[0]\n",
    "\n",
    "#set masked values for abundances to nan to avoid confusion later\n",
    "for col in tspina_stars.colnames:\n",
    "    if tspina_stars[col].dtype==np.float32:\n",
    "        tspina_stars[col].fill_value=np.nan\n",
    "        tspina_stars[col] = tspina_stars[col].filled()\n",
    "        \n",
    "#fetch Table 2 (cluster level properties, including cluster ages) from Spina+2021\n",
    "viz = Vizier(columns=['**'])\n",
    "viz.ROW_LIMIT = -1\n",
    "tspina_clusters = viz.get_catalogs(\"J/MNRAS/503/3279/table2\")[0]\n",
    "\n",
    "#join stars with their cluster properties\n",
    "tspina = join(tspina_stars,tspina_clusters,keys='Cluster')\n",
    "\n",
    "#restrict to stars that have at least 75% probability of being a cluster member, \n",
    "#have an age > 7.52 and < 9.23 dex, and have a metallicity detection in GALAH\n",
    "filter_spina = (tspina['Pmem'] > 0.75) & (tspina['logAge']>7.52) & (tspina['logAge']< 9.23) & (np.isfinite(tspina['__Fe_H_'])) & (~tspina['GALAH'].mask)\n",
    "tspina= tspina[filter_spina == True]\n"
   ]
  },
  {
   "cell_type": "markdown",
   "id": "3a6e3818",
   "metadata": {},
   "source": [
    "Following Manea+2022, we convert the GALAH elemental abundances with respect to iron (i.e. X/Fe, originally reported in Spina+2021) to abundances with respect to hydrogen (i.e. X/H). We consider all elements analyzed in Manea+2022 [O, Na, Mg, Al, Si, Ca, Ti, Cr, Mn, Fe, Ni, Cu, Zn, Y, Ba] with the exception of Potassium (K) and Scandium (Sc) which were not reported in Spina+2021."
   ]
  },
  {
   "cell_type": "code",
   "execution_count": 13,
   "id": "2e3417f8",
   "metadata": {},
   "outputs": [],
   "source": [
    "elements = ['O', 'Na', 'Mg', 'Al', 'Si', 'Ca', 'Ti', 'Cr', 'Mn', 'Fe', 'Ni', 'Cu', 'Zn', 'Y', 'Ba']\n",
    "\n",
    "#conversion from abundance relative to Fe to abundance relative to H, the latter of which is reported in Manea+2022\n",
    "for element in elements:\n",
    "    \n",
    "    if element=='Fe':\n",
    "        tspina['Fe/H'] = np.array(tspina['__Fe_H_'],dtype=np.float64)\n",
    "        tspina['Fe/H_err'] = np.array(tspina['e__Fe_H_'],dtype=np.float64)\n",
    "\n",
    "    else:\n",
    "        tspina['{}/H'.format(element)] = np.array(tspina['__{}_Fe_'.format(element)] + tspina['__Fe_H_'],dtype=np.float64)\n",
    "        tspina['{}/H_err'.format(element)] = np.array(np.sqrt(tspina['e__{}_Fe_'.format(element)]**2 + tspina['e__Fe_H_']**2),dtype=np.float64)\n"
   ]
  },
  {
   "cell_type": "markdown",
   "id": "da10609c",
   "metadata": {},
   "source": [
    "Next, we are going to randomly draw 7 to 19 stars from the set of cluster stars (following the sample sizes of Manea+2022).  Then, we fit for the intrinsic dispersion in a set of elements using the likelihood function of Manea+2022:\n",
    "\n",
    "\\begin{equation}\n",
    "    \\mathcal{L} = \\prod_i^N \\rm{exp} \\left [ \\frac{-(x_i - \\mu_{[X/H]})^2} {(2(\\sigma_{[X/H]}^2 + \\delta_i^2)} \\right ] \\times \\frac{1}{\\sqrt{2\\pi(\\sigma_{[X/H]}^2 + \\delta_i^2)}}\n",
    "    \\label{eq:likelihood}\n",
    "\\end{equation}\n",
    "\n",
    "where $x_i$ and $\\sigma_i$ are the GALAH mean abundance and its reported uncertainty for the $i$th star in the string in a given element $\\rm X$. \n",
    "\n",
    "We repeat this procedure over 250 trials, and compile the results in a table for plotting."
   ]
  },
  {
   "cell_type": "code",
   "execution_count": 14,
   "id": "a4735927",
   "metadata": {},
   "outputs": [],
   "source": [
    "#set up likelihood function:\n",
    "from scipy.optimize import minimize\n",
    "import random\n",
    "import matplotlib.pyplot as plt\n",
    "    \n",
    "#log likelihood function from Manea+2022\n",
    "def log_likelihood(theta, x, delta_x):\n",
    "    mu_x, sigma_x = theta\n",
    "    sn2 = delta_x**2 + sigma_x**2\n",
    "    return -0.5 * np.sum((x - mu_x) ** 2 / sn2 + np.log(2*np.pi*sn2))\n",
    "\n",
    "ndraws = 250\n",
    "\n",
    "#table to hold the intrinsic dispersions across the various draws\n",
    "tdraws = Table(names = ['Draw'] + ['disp_{}'.format(element) for element in elements])\n",
    "\n",
    "for draw in range(0,ndraws):\n",
    "    \n",
    "    #draw between 7 and 19 random stars from open cluster sample\n",
    "    nstars = random.randint(7,19)\n",
    "    sel_stars = random.choices(np.arange(0,len(tspina)), k=nstars)\n",
    "    trand = tspina[sel_stars]\n",
    "    \n",
    "    dispersions = []\n",
    "    \n",
    "    for element in elements:\n",
    "        \n",
    "        #mask out the occasional missing value in a given element:\n",
    "        mask = np.isfinite(trand['{}/H'.format(element)])\n",
    "        \n",
    "        #guess the mean intrinsic abundance and dispersion\n",
    "        mu_x_guess = np.mean(trand['{}/H'.format(element)][mask])\n",
    "        sigma_x_guess = np.std(trand['{}/H'.format(element)][mask])\n",
    "        \n",
    "        #we set the bounds on mu to be from -1 to 1 and on sigma to be from 0.01 to 0.35\n",
    "        nll = lambda *args: -log_likelihood(*args)\n",
    "        initial = np.array([mu_x_guess, sigma_x_guess])\n",
    "        soln = minimize(nll, initial, args=(trand['{}/H'.format(element)][mask], trand['{}/H_err'.format(element)][mask]), bounds=((-1,1),(0.01, 0.35)))\n",
    "        mu_ml, sigma_ml = soln.x\n",
    "        dispersions.append(sigma_ml)\n",
    "        \n",
    "    tdraws.add_row([draw]+dispersions)\n",
    "\n"
   ]
  },
  {
   "cell_type": "markdown",
   "id": "bf4a7efc",
   "metadata": {},
   "source": [
    "### Reproducing Figure 4"
   ]
  },
  {
   "cell_type": "code",
   "execution_count": 28,
   "id": "a09da0a4",
   "metadata": {},
   "outputs": [],
   "source": [
    "from matplotlib import rcParams\n",
    "import matplotlib.patches as patches\n",
    "import glob\n",
    "from PIL import Image\n",
    "\n",
    "plt.rcParams.update({'xtick.major.pad': '7.0'})\n",
    "plt.rcParams.update({'xtick.major.size': '7.5'})\n",
    "plt.rcParams.update({'xtick.major.width': '1.5'})\n",
    "plt.rcParams.update({'xtick.minor.pad': '7.0'})\n",
    "plt.rcParams.update({'xtick.minor.size': '3.5'})\n",
    "plt.rcParams.update({'xtick.minor.width': '1.0'})\n",
    "plt.rcParams.update({'ytick.major.pad': '7.0'})\n",
    "plt.rcParams.update({'ytick.major.size': '7.5'})\n",
    "plt.rcParams.update({'ytick.major.width': '1.5'})\n",
    "plt.rcParams.update({'ytick.minor.pad': '7.0'})\n",
    "plt.rcParams.update({'ytick.minor.size': '3.5'})\n",
    "plt.rcParams.update({'ytick.minor.width': '1.0'})\n",
    "plt.rcParams.update({'axes.titlepad': '15.0'})\n",
    "plt.rcParams.update({'axes.labelpad': '15.0'})\n",
    "plt.rcParams.update({'font.size': 20})\n",
    "\n",
    "num_strings = 10\n",
    "\n",
    "#read in Manea+2022 data on stellar strings\n",
    "tmanea = Table.read(\"Manea2022_Supplementary_Table.fits\")\n",
    "\n",
    "#read in dispersions of benchmark cluster M67\n",
    "tbench = Table.read(\"Manea2022_M67_dispersion.fits\")\n",
    "M67_disp = [tbench[0][col] for col in tbench.colnames[1:]]\n",
    "\n",
    "draw_num = 0\n",
    "#produce 25 plots, with 10 random draws per plot shown alongside the sample of 10 strings\n",
    "for iteration in np.arange(0,25):\n",
    "    \n",
    "    fig, axarr = plt.subplots(num_strings,2,figsize = (35,30),sharey=True,sharex=True)\n",
    "    \n",
    "    #build left panels, consisting of the string results from Manea+2022\n",
    "    for (num,col) in enumerate(tmanea.colnames[1:]):\n",
    "        \n",
    "        #extract dispersions for given string\n",
    "        string_disp = tmanea[col]\n",
    "        \n",
    "        ax1 = axarr.flat[::2][num]\n",
    "        ax1.set_yscale('log')        \n",
    "\n",
    "        #plot intrinsic dispersions for string \n",
    "        ax1.scatter(np.arange(0,len(string_disp)),string_disp,c='mediumblue',s=100)\n",
    "        \n",
    "        #add benchmark cluster M67\n",
    "        ax1.scatter(np.arange(0,len(M67_disp)),M67_disp,c='grey',s=125,marker='*',alpha=0.75)\n",
    "        \n",
    "        ax1.set_ylabel(\"$\\sigma_{X/H}$\",fontsize=35)\n",
    "        plt.yticks(fontsize=30)\n",
    "        ax1.set_xticks(np.arange(0,len(string_disp)))\n",
    "        ax1.set_xticklabels(elements,fontsize = 25)\n",
    "        \n",
    "        ax1.set_ylim(0.005,0.65)\n",
    "        ax1.set_xlim(-0.5,len(tmanea))\n",
    "        \n",
    "        #label string number\n",
    "        ax1.text(0.45, 0.85,'Theia {}'.format(col),transform=ax1.transAxes,fontsize=20,c='mediumblue',alpha=0.75)\n",
    "\n",
    "        # add grey box for cluster homogeneity zone\n",
    "        rect = patches.Rectangle((ax1.get_xlim()[0], ax1.get_ylim()[0]), np.ptp(ax1.get_xlim()), 0.07 - ax1.get_ylim()[0], facecolor='grey',alpha=0.1,zorder=0)\n",
    "        ax1.add_patch(rect)\n",
    "        \n",
    "    #build right panels, consisting of the random draws from unrelated open clusters\n",
    "    for (num,col) in enumerate(tmanea.colnames[1:]):\n",
    "        \n",
    "        #extract dispersions for random draw\n",
    "        random_disp = [tdraws[draw_num][col] for col in tdraws.colnames[1:]]\n",
    "        \n",
    "        ax2 = axarr.flat[1::2][num]\n",
    "        ax2.set_yscale('log')\n",
    "\n",
    "        #plot intrinsic dispersions for random draw\n",
    "        ax2.scatter(np.arange(0,len(random_disp)),random_disp,c='k',s=100)\n",
    "        \n",
    "        #add benchmark cluster M67\n",
    "        ax2.scatter(np.arange(0,len(M67_disp)),M67_disp,c='grey',s=125,marker='*',alpha=0.75)\n",
    "\n",
    "        plt.yticks(fontsize=30)\n",
    "        ax2.set_xticks(np.arange(0,len(random_disp)))\n",
    "        ax2.set_xticklabels(elements,fontsize=25)\n",
    "        \n",
    "        #label random draw number\n",
    "        ax2.text(0.45, 0.85,'Random Draw #{}'.format(draw_num+1),transform=ax2.transAxes,fontsize=20,c='k',alpha=0.75)\n",
    "        \n",
    "        ax1.set_ylim(0.005,0.65)\n",
    "        ax1.set_xlim(-0.5,len(tmanea))\n",
    "        \n",
    "        # add grey box for cluster homogeneity\n",
    "        rect = patches.Rectangle((ax2.get_xlim()[0], ax2.get_ylim()[0]), np.ptp(ax2.get_xlim()), 0.07 - ax2.get_ylim()[0], facecolor='grey',alpha=0.1,zorder=0)\n",
    "        ax2.add_patch(rect)\n",
    "\n",
    "        draw_num = draw_num + 1\n",
    "        \n",
    "    plt.subplots_adjust(wspace=0.01,hspace=0.01)\n",
    "    plt.savefig(\"./metallicity_gif/metallicity_random_comparison_iteration_{}.jpeg\".format(iteration),bbox_inches='tight',dpi=300)\n",
    "    plt.close('all')\n",
    "    \n",
    "    \n",
    "#compile the GIF\n",
    "frame_folder = './metallicity_gif/'    \n",
    "fns = ['./metallicity_gif/metallicity_random_comparison_iteration_{}.jpeg'.format(k) for k in range(0,25)]\n",
    "frames = [Image.open(fn) for fn in fns]\n",
    "frame_one = frames[0]\n",
    "frame_one.save(\"Figure4.gif\", format=\"GIF\", append_images=frames,\n",
    "               save_all=True, duration=100, loop=0)"
   ]
  },
  {
   "cell_type": "markdown",
   "id": "d7280906",
   "metadata": {},
   "source": [
    "![](https://github.com/catherinezucker/stellar_strings_reexamined/blob/main/metallicity_gif/metallicity_random_comparison_iteration_0.jpeg?raw=true)\n"
   ]
  }
 ],
 "metadata": {
  "kernelspec": {
   "display_name": "Python 3 (ipykernel)",
   "language": "python",
   "name": "python3"
  },
  "language_info": {
   "codemirror_mode": {
    "name": "ipython",
    "version": 3
   },
   "file_extension": ".py",
   "mimetype": "text/x-python",
   "name": "python",
   "nbconvert_exporter": "python",
   "pygments_lexer": "ipython3",
   "version": "3.9.7"
  }
 },
 "nbformat": 4,
 "nbformat_minor": 5
}
